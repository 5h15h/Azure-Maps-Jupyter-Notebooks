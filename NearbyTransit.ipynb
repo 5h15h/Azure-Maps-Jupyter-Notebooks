{
 "cells": [
  {
   "cell_type": "markdown",
   "metadata": {},
   "source": [
    "# Public Transit Options Around A Location"
   ]
  },
  {
   "cell_type": "markdown",
   "metadata": {},
   "source": [
    "---\n",
    "Azure Maps Mobility service (http://bit.ly/332vWZv) allows functionality for public transit, bike share, and scooter share routing with multimodal trip planning options. For public transit, the service offers search for nearby stations, stops, and lines and provides information like scheduled and real-time public transit arrivals, list of stops and route guides, as well as detailed and multimodal step-by-step itineraries and service alerts. The mobility service also returns real-time and static availability information to car share vehicles and shared bikes and scooters. \n",
    "\n",
    "I have included a few scenarios in this walkthrough:\n",
    "\n",
    "1. Geocoding to find the lat long for any address\n",
    "2. Finding the MetroID for use in the Mobility API for the address you are analyzing\n",
    "3. Using the Find Nearby Transit Options API\n",
    "\n",
    "For Geocoding, Azure Maps does not have the same level of information and accuracy for all cities and countries/regions. Check this table to see if your region is covered: http://bit.ly/2LHMiAV\n"
   ]
  },
  {
   "cell_type": "markdown",
   "metadata": {},
   "source": [
    "---"
   ]
  },
  {
   "cell_type": "code",
   "execution_count": 104,
   "metadata": {},
   "outputs": [],
   "source": [
    "import os\n",
    "import json\n",
    "import time\n",
    "import requests\n",
    "import urllib.parse\n",
    "from IPython.display import Image, display"
   ]
  },
  {
   "cell_type": "markdown",
   "metadata": {},
   "source": [
    "Load Subscription Key for Azure Maps from Config File. If you dont have an Azure Maps Subscription Key, get yourself a free account here: http://bit.ly/2VV39SG"
   ]
  },
  {
   "cell_type": "code",
   "execution_count": 105,
   "metadata": {},
   "outputs": [],
   "source": [
    "config_file = 'config.json'\n",
    "key = json.load(open(config_file))['key']\n",
    "subscriptionKey = key"
   ]
  },
  {
   "cell_type": "markdown",
   "metadata": {},
   "source": [
    "The Azure Maps Search Service provides the ability for customers to find real world objects and their respective location. The Search Service provides for three major functions:\n",
    "    1. Geocoding: Finding addresses, places, and landmarks\n",
    "    2. Point of Interest (POI) Search: Finding businesses based on a location\n",
    "    3. Reverse Geocoding: Finding addresses or cross streets based on a location\n",
    "    \n",
    "You can customize this for the address that you want analyze by replacing the address below:"
   ]
  },
  {
   "cell_type": "code",
   "execution_count": 98,
   "metadata": {},
   "outputs": [],
   "source": [
    "addresstoAnalyze = \"15127 NE 24th Street, Redmond, WA 98052\"\n",
    "locationDetails = requests.get(\"https://atlas.microsoft.com/search/address/json?subscription-key={}&api-version=1.0&query={}\".format(subscriptionKey,addresstoAnalyze)).json()\n",
    "latlong=locationDetails[\"results\"][0][\"position\"]\n",
    "latlong\n",
    "currentLocation[0]=latlong[\"lat\"]\n",
    "currentLocation[1]=latlong[\"lon\"]"
   ]
  },
  {
   "cell_type": "markdown",
   "metadata": {},
   "source": [
    "The *Get Metro Area* API allows to request metro areas in which the Azure Maps Mobility Service is available. The service supports filtering results by country or coordinate location. Information returned includes Metro Area details such as metro Id, name and a representation of the metro area geometry in GeoJSON format."
   ]
  },
  {
   "cell_type": "code",
   "execution_count": 106,
   "metadata": {},
   "outputs": [
    {
     "name": "stdout",
     "output_type": "stream",
     "text": [
      "The Metro ID for Seattle–Tacoma–Bellevue, WA is 522\n"
     ]
    }
   ],
   "source": [
    "metroAreaID = requests.get(\"https://atlas.microsoft.com/mobility/metroArea/id/json?subscription-key={}&api-version=1.0&queryType=position&query={}\".format(subscriptionKey,str(currentLocation[0])+\",\"+str(currentLocation[1]))).json()\n",
    "metroID1 = metroAreaID[\"results\"][0][\"metroId\"]\n",
    "metroName1 = metroAreaID[\"results\"][0][\"metroName\"]\n",
    "print(\"The Metro ID for\", metroName1, \"is\",metroID1)"
   ]
  },
  {
   "cell_type": "code",
   "execution_count": 107,
   "metadata": {},
   "outputs": [],
   "source": [
    "transitOptions = requests.get(\"https://atlas.microsoft.com/mobility/transit/nearby/json?subscription-key={}&api-version=1.0&metroId={}&query={}&radius=1000\".format(subscriptionKey,metroID1,str(currentLocation[0])+\",\"+str(currentLocation[1]))).json()"
   ]
  },
  {
   "cell_type": "code",
   "execution_count": 108,
   "metadata": {},
   "outputs": [
    {
     "name": "stdout",
     "output_type": "stream",
     "text": [
      "{\n",
      "    \"results\": [\n",
      "        {\n",
      "            \"id\": \"522---2060625\",\n",
      "            \"type\": \"stop\",\n",
      "            \"objectDetails\": {\n",
      "                \"stopKey\": \"71370\",\n",
      "                \"stopName\": \"NE 24th St & 152nd Ave NE\",\n",
      "                \"stopCode\": \"71370\",\n",
      "                \"mainTransitType\": \"Bus\",\n",
      "                \"mainAgencyId\": \"522---5872\",\n",
      "                \"mainAgencyName\": \"Metro Transit\"\n",
      "            },\n",
      "            \"position\": {\n",
      "                \"latitude\": 47.631485,\n",
      "                \"longitude\": -122.137283\n",
      "            },\n",
      "            \"viewport\": {\n",
      "                \"topLeftPoint\": {\n",
      "                    \"latitude\": 47.632394,\n",
      "                    \"longitude\": -122.138599\n",
      "                },\n",
      "                \"btmRightPoint\": {\n",
      "                    \"latitude\": 47.630575,\n",
      "                    \"longitude\": -122.135966\n",
      "                }\n",
      "            }\n",
      "        },\n",
      "        {\n",
      "            \"id\": \"522---2060612\",\n",
      "            \"type\": \"stop\",\n",
      "            \"objectDetails\": {\n",
      "                \"stopKey\": \"71331\",\n",
      "                \"stopName\": \"Overlake Park & Ride\",\n",
      "                \"stopCode\": \"71331\",\n",
      "                \"mainTransitType\": \"Bus\",\n",
      "                \"mainAgencyId\": \"522---5872\",\n",
      "                \"mainAgencyName\": \"Metro Transit\"\n",
      "            },\n",
      "            \"position\": {\n",
      "                \"latitude\": 47.633045,\n",
      "                \"longitude\": -122.137802\n",
      "            },\n",
      "            \"viewport\": {\n",
      "                \"topLeftPoint\": {\n",
      "                    \"latitude\": 47.633954,\n",
      "                    \"longitude\": -122.139118\n",
      "                },\n",
      "                \"btmRightPoint\": {\n",
      "                    \"latitude\": 47.632135,\n",
      "                    \"longitude\": -122.136485\n",
      "                }\n",
      "            }\n",
      "        },\n",
      "        {\n",
      "            \"id\": \"522---37248901\",\n",
      "            \"type\": \"stop\",\n",
      "            \"objectDetails\": {\n",
      "                \"stopKey\": \"477988231\",\n",
      "                \"stopName\": \"Overlake P&R\",\n",
      "                \"stopCode\": \"4619\",\n",
      "                \"mainTransitType\": \"Bus\",\n",
      "                \"mainAgencyId\": \"522---855553\",\n",
      "                \"mainAgencyName\": \"Sound Transit\"\n",
      "            },\n",
      "            \"position\": {\n",
      "                \"latitude\": 47.633163,\n",
      "                \"longitude\": -122.136139\n",
      "            },\n",
      "            \"viewport\": {\n",
      "                \"topLeftPoint\": {\n",
      "                    \"latitude\": 47.634072,\n",
      "                    \"longitude\": -122.137455\n",
      "                },\n",
      "                \"btmRightPoint\": {\n",
      "                    \"latitude\": 47.632253,\n",
      "                    \"longitude\": -122.134822\n",
      "                }\n",
      "            }\n",
      "        }\n",
      "    ]\n",
      "}\n"
     ]
    }
   ],
   "source": [
    "transitOptionsF = json.dumps(transitOptions, indent=4)\n",
    "print(transitOptionsF)"
   ]
  },
  {
   "cell_type": "code",
   "execution_count": 109,
   "metadata": {},
   "outputs": [
    {
     "name": "stdout",
     "output_type": "stream",
     "text": [
      "Here are the public transit options: \n",
      "1 .  Bus ( Metro Transit ) : NE 24th St & 152nd Ave NE\n",
      "2 .  Bus ( Metro Transit ) : Overlake Park & Ride\n",
      "3 .  Bus ( Sound Transit ) : Overlake P&R\n"
     ]
    }
   ],
   "source": [
    "print(\"Here are the public transit options: \")\n",
    "for loc in range(len(transitOptions[\"results\"])):\n",
    "                print(loc+1,\". \",transitOptions[\"results\"][loc][\"objectDetails\"][\"mainTransitType\"],\"(\", transitOptions[\"results\"][loc][\"objectDetails\"][\"mainAgencyName\"],\")\", \":\", transitOptions[\"results\"][loc][\"objectDetails\"][\"stopName\"])\n",
    "                "
   ]
  },
  {
   "cell_type": "code",
   "execution_count": null,
   "metadata": {},
   "outputs": [],
   "source": []
  },
  {
   "cell_type": "code",
   "execution_count": null,
   "metadata": {},
   "outputs": [],
   "source": []
  }
 ],
 "metadata": {
  "kernelspec": {
   "display_name": "Python 3.6",
   "language": "python",
   "name": "python36"
  },
  "language_info": {
   "codemirror_mode": {
    "name": "ipython",
    "version": 3
   },
   "file_extension": ".py",
   "mimetype": "text/x-python",
   "name": "python",
   "nbconvert_exporter": "python",
   "pygments_lexer": "ipython3",
   "version": "3.6.6"
  }
 },
 "nbformat": 4,
 "nbformat_minor": 2
}
