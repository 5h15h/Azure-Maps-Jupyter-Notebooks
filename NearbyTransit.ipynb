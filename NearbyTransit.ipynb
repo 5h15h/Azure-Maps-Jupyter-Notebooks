{
 "cells": [
  {
   "cell_type": "markdown",
   "metadata": {},
   "source": [
    "# Public Transit Options Around A Location"
   ]
  },
  {
   "cell_type": "markdown",
   "metadata": {},
   "source": [
    "---\n",
    "Azure Maps Mobility service (http://bit.ly/332vWZv) allows functionality for public transit, bike share, and scooter share routing with multimodal trip planning options. For public transit, the service offers search for nearby stations, stops, and lines and provides information like scheduled and real-time public transit arrivals, list of stops and route guides, as well as detailed and multimodal step-by-step itineraries and service alerts. The mobility service also returns real-time and static availability information to car share vehicles and shared bikes and scooters. \n",
    "\n",
    "I have included a few scenarios in this walkthrough:\n",
    "\n",
    "1. Geocoding to find the lat long for any address\n",
    "2. Finding the MetroID for use in the Mobility API for the address you are analyzing\n",
    "3. Using the Find Nearby Transit Options API\n",
    "\n",
    "For Geocoding, Azure Maps does not have the same level of information and accuracy for all cities and countries/regions. Check this table to see if your region is covered: http://bit.ly/2LHMiAV\n"
   ]
  },
  {
   "cell_type": "markdown",
   "metadata": {},
   "source": [
    "---"
   ]
  },
  {
   "cell_type": "code",
   "execution_count": 1,
   "metadata": {},
   "outputs": [],
   "source": [
    "import os\n",
    "import json\n",
    "import time\n",
    "import requests\n",
    "import urllib.parse\n",
    "from IPython.display import Image, display"
   ]
  },
  {
   "cell_type": "markdown",
   "metadata": {},
   "source": [
    "Load Subscription Key for Azure Maps from Config File. If you dont have an Azure Maps Subscription Key, get yourself a free account here: http://bit.ly/2VV39SG"
   ]
  },
  {
   "cell_type": "code",
   "execution_count": 2,
   "metadata": {},
   "outputs": [],
   "source": [
    "config_file = 'config.json'\n",
    "key = json.load(open(config_file))['key']\n",
    "subscriptionKey = key"
   ]
  },
  {
   "cell_type": "markdown",
   "metadata": {},
   "source": [
    "The Azure Maps Search Service provides the ability for customers to find real world objects and their respective location. The Search Service provides for three major functions:\n",
    "    1. Geocoding: Finding addresses, places, and landmarks\n",
    "    2. Point of Interest (POI) Search: Finding businesses based on a location\n",
    "    3. Reverse Geocoding: Finding addresses or cross streets based on a location\n",
    "    \n",
    "You can customize this for the address that you want analyze by replacing the address below:"
   ]
  },
  {
   "cell_type": "code",
   "execution_count": 3,
   "metadata": {},
   "outputs": [],
   "source": [
    "addresstoAnalyze = \"400, Pine Street, Seattle\"\n",
    "locationDetails = requests.get(\"https://atlas.microsoft.com/search/address/json?subscription-key={}&api-version=1.0&query={}\".format(subscriptionKey,addresstoAnalyze)).json()\n",
    "latlong=locationDetails[\"results\"][0][\"position\"]\n",
    "currentLocation=[0,0]\n",
    "currentLocation[0]=latlong[\"lat\"]\n",
    "currentLocation[1]=latlong[\"lon\"]"
   ]
  },
  {
   "cell_type": "markdown",
   "metadata": {},
   "source": [
    "The *Get Metro Area* API allows to request metro areas in which the Azure Maps Mobility Service is available. The service supports filtering results by country or coordinate location. Information returned includes Metro Area details such as metro Id, name and a representation of the metro area geometry in GeoJSON format."
   ]
  },
  {
   "cell_type": "code",
   "execution_count": 4,
   "metadata": {},
   "outputs": [
    {
     "name": "stdout",
     "output_type": "stream",
     "text": [
      "The Metro ID for Seattle–Tacoma–Bellevue, WA is 522\n"
     ]
    }
   ],
   "source": [
    "metroAreaID = requests.get(\"https://atlas.microsoft.com/mobility/metroArea/id/json?subscription-key={}&api-version=1.0&queryType=position&query={}\".format(subscriptionKey,str(currentLocation[0])+\",\"+str(currentLocation[1]))).json()\n",
    "metroID1 = metroAreaID[\"results\"][0][\"metroId\"]\n",
    "metroName1 = metroAreaID[\"results\"][0][\"metroName\"]\n",
    "print(\"The Metro ID for\", metroName1, \"is\",metroID1)"
   ]
  },
  {
   "cell_type": "markdown",
   "metadata": {},
   "source": [
    "The Get Nearby Transit service (http://bit.ly/31Ui6Iw) allows you to search transit objects, for example, public transit stops and shared bikes around a given location returning the transit object details. The Service allows users to search for specific object types and within a given radius returning a set of transit object with object details."
   ]
  },
  {
   "cell_type": "code",
   "execution_count": 5,
   "metadata": {},
   "outputs": [],
   "source": [
    "transitOptions = requests.get(\"https://atlas.microsoft.com/mobility/transit/nearby/json?subscription-key={}&api-version=1.0&metroId={}&query={}&radius=1000\".format(subscriptionKey,metroID1,str(currentLocation[0])+\",\"+str(currentLocation[1]))).json()"
   ]
  },
  {
   "cell_type": "markdown",
   "metadata": {},
   "source": [
    "This is the returned json from the Get Nearby Transit Service with the details of the nearby stops"
   ]
  },
  {
   "cell_type": "code",
   "execution_count": 6,
   "metadata": {},
   "outputs": [
    {
     "name": "stdout",
     "output_type": "stream",
     "text": [
      "{\n",
      "    \"results\": [\n",
      "        {\n",
      "            \"id\": \"522---2055334\",\n",
      "            \"type\": \"stop\",\n",
      "            \"objectDetails\": {\n",
      "                \"stopKey\": \"760\",\n",
      "                \"stopName\": \"5th Ave & Pine St\",\n",
      "                \"stopCode\": \"760\",\n",
      "                \"mainTransitType\": \"Bus\",\n",
      "                \"mainAgencyId\": \"522---5872\",\n",
      "                \"mainAgencyName\": \"Metro Transit\"\n",
      "            },\n",
      "            \"position\": {\n",
      "                \"latitude\": 47.611946,\n",
      "                \"longitude\": -122.336921\n",
      "            },\n",
      "            \"viewport\": {\n",
      "                \"topLeftPoint\": {\n",
      "                    \"latitude\": 47.612853,\n",
      "                    \"longitude\": -122.33824\n",
      "                },\n",
      "                \"btmRightPoint\": {\n",
      "                    \"latitude\": 47.611038,\n",
      "                    \"longitude\": -122.335601\n",
      "                }\n",
      "            }\n",
      "        },\n",
      "        {\n",
      "            \"id\": \"522---2055357\",\n",
      "            \"type\": \"stop\",\n",
      "            \"objectDetails\": {\n",
      "                \"stopKey\": \"1108\",\n",
      "                \"stopName\": \"Westlake Station - Bay C\",\n",
      "                \"stopCode\": \"1108\",\n",
      "                \"mainTransitType\": \"Tram\",\n",
      "                \"mainAgencyId\": \"522---854536\",\n",
      "                \"mainAgencyName\": \"Sound Transit\"\n",
      "            },\n",
      "            \"position\": {\n",
      "                \"latitude\": 47.61145,\n",
      "                \"longitude\": -122.337532\n",
      "            },\n",
      "            \"viewport\": {\n",
      "                \"topLeftPoint\": {\n",
      "                    \"latitude\": 47.612357,\n",
      "                    \"longitude\": -122.338851\n",
      "                },\n",
      "                \"btmRightPoint\": {\n",
      "                    \"latitude\": 47.610542,\n",
      "                    \"longitude\": -122.336212\n",
      "                }\n",
      "            }\n",
      "        },\n",
      "        {\n",
      "            \"id\": \"522---32962125\",\n",
      "            \"type\": \"stop\",\n",
      "            \"objectDetails\": {\n",
      "                \"stopName\": \"Westlake Station\",\n",
      "                \"mainTransitType\": \"Tram\",\n",
      "                \"mainAgencyId\": \"522---1360766\",\n",
      "                \"mainAgencyName\": \"Seattle Monorail\"\n",
      "            },\n",
      "            \"position\": {\n",
      "                \"latitude\": 47.611417,\n",
      "                \"longitude\": -122.337089\n",
      "            },\n",
      "            \"viewport\": {\n",
      "                \"topLeftPoint\": {\n",
      "                    \"latitude\": 47.612324,\n",
      "                    \"longitude\": -122.338408\n",
      "                },\n",
      "                \"btmRightPoint\": {\n",
      "                    \"latitude\": 47.610509,\n",
      "                    \"longitude\": -122.335769\n",
      "                }\n",
      "            }\n",
      "        }\n",
      "    ]\n",
      "}\n"
     ]
    }
   ],
   "source": [
    "transitOptionsF = json.dumps(transitOptions, indent=4)\n",
    "print(transitOptionsF)"
   ]
  },
  {
   "cell_type": "markdown",
   "metadata": {},
   "source": [
    "We enumerate through the elements in the json results to list out all of the transit stops around the location that you are analyzing. In addition, for every stop, we are also calling the Transit Stop Info service (http://bit.ly/2ARnDn7) to get details of all the lines that go through that stop. The Get Transit Stop Info service allows you to request information for a given public transit stop. Basic information returned includes details such as main transit type of most lines stopping for a given public and main transport agency. Additional details such as stop lines, active service alerts for specified stop, photos and user reviews are also available, depending on the options selected."
   ]
  },
  {
   "cell_type": "code",
   "execution_count": 48,
   "metadata": {},
   "outputs": [
    {
     "name": "stdout",
     "output_type": "stream",
     "text": [
      "Here are the public transit stops: \n",
      "\n",
      "1 .  Bus ( Metro Transit ) : 5th Ave & Pine St\n",
      "\n",
      "\tLines:\n",
      "\t\t 1 . Downtown Seattle Via Sr-520 - backward\n",
      "\t\t 2 . Downtown Seattle - backward\n",
      "\t\t 3 . Downtown Seattle Kirkland - backward\n",
      "\t\t 4 . Downtown Seattle - backward\n",
      "\t\t 5 . Downtown Seattle Via Sr-520 - backward\n",
      "\t\t 6 . Downtown Seattle Via Sr-520 - backward\n",
      "\t\t 7 . Downtown Seattle - backward\n",
      "2 .  Tram ( Sound Transit ) : Westlake Station - Bay C\n",
      "\n",
      "\tLines:\n",
      "\t\t 1 . Angle Lake Station - forward\n",
      "3 .  Tram ( Seattle Monorail ) : Westlake Station\n",
      "\n",
      "\tLines:\n",
      "\t\t 1 . Seattle Center - backward\n",
      "\t\t 2 . Westlake Center - forward\n",
      "\n",
      "Total Transit Stops Nearby: 3\n"
     ]
    }
   ],
   "source": [
    "print(\"Here are the public transit stops: \\n\")\n",
    "for loc in range(len(transitOptions[\"results\"])):\n",
    "                print(loc+1,\". \",transitOptions[\"results\"][loc][\"objectDetails\"][\"mainTransitType\"],\"(\", transitOptions[\"results\"][loc][\"objectDetails\"][\"mainAgencyName\"],\")\", \":\", transitOptions[\"results\"][loc][\"objectDetails\"][\"stopName\"])\n",
    "                sId = transitOptions[\"results\"][loc][\"id\"]\n",
    "                stopDetails = requests.get(\"https://atlas.microsoft.com/mobility/transit/stop/json?subscription-key={}&api-version=1.0&metroId={}&query={}&queryType=stopId&detailType=lines\".format(subscriptionKey,metroID1,sId)).json()\n",
    "                print(\"\\n\\tLines:\")\n",
    "                for loc1 in range(len(stopDetails[\"lines\"])):\n",
    "                    print (\"\\t\\t\",loc1+1, \".\", stopDetails[\"lines\"][loc1][\"lineDestination\"], \"-\",stopDetails[\"lines\"][loc1][\"direction\"])\n",
    "print (\"\\nTotal Transit Stops Nearby:\",len(transitOptions[\"results\"]))                "
   ]
  },
  {
   "cell_type": "markdown",
   "metadata": {},
   "source": [
    "The returned data can be used for calculating the Transit Score based on:\n",
    "1. Number of Transit Stops within the specified Radius\n",
    "2. Distance to the Transit Stops from your location\n",
    "3. Number of lines that go through the Transit Stops\n",
    "4. Destinations of each of the lines\n",
    "5. Frequency &amp; timings of the transit options\n",
    "6. &amp; more"
   ]
  },
  {
   "cell_type": "code",
   "execution_count": null,
   "metadata": {},
   "outputs": [],
   "source": []
  },
  {
   "cell_type": "code",
   "execution_count": null,
   "metadata": {},
   "outputs": [],
   "source": []
  }
 ],
 "metadata": {
  "kernelspec": {
   "display_name": "Python 3.6",
   "language": "python",
   "name": "python36"
  },
  "language_info": {
   "codemirror_mode": {
    "name": "ipython",
    "version": 3
   },
   "file_extension": ".py",
   "mimetype": "text/x-python",
   "name": "python",
   "nbconvert_exporter": "python",
   "pygments_lexer": "ipython3",
   "version": "3.6.6"
  }
 },
 "nbformat": 4,
 "nbformat_minor": 2
}
