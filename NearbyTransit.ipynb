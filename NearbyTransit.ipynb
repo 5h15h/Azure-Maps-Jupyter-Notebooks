{
  "cells": [
    {
      "metadata": {},
      "cell_type": "markdown",
      "source": "# Public Transit Options Around A Location"
    },
    {
      "metadata": {},
      "cell_type": "markdown",
      "source": "---\nAzure Maps Mobility service (http://bit.ly/332vWZv) allows functionality for public transit, bike share, and scooter share routing with multimodal trip planning options. For public transit, the service offers search for nearby stations, stops, and lines and provides information like scheduled and real-time public transit arrivals, list of stops and route guides, as well as detailed and multimodal step-by-step itineraries and service alerts. The mobility service also returns real-time and static availability information to car share vehicles and shared bikes and scooters. \n\nI have included a few scenarios in this walkthrough:\n\n1. Geocoding to find the lat long for any address\n2. Finding the MetroID for use in the Mobility API for the address you are analyzing\n3. Using the Find Nearby Transit Options API\n\nFor Geocoding, Azure Maps does not have the same level of information and accuracy for all cities and countries/regions. Check this table to see if your region is covered: http://bit.ly/2LHMiAV\n"
    },
    {
      "metadata": {},
      "cell_type": "markdown",
      "source": "---"
    },
    {
      "metadata": {
        "trusted": true
      },
      "cell_type": "code",
      "source": "import os\nimport json\nimport time\nimport requests\nimport urllib.parse\nfrom IPython.display import Image, display",
      "execution_count": 1,
      "outputs": []
    },
    {
      "metadata": {},
      "cell_type": "markdown",
      "source": "Load Subscription Key for Azure Maps from Config File. If you dont have an Azure Maps Subscription Key, get yourself a free account here: http://bit.ly/2VV39SG"
    },
    {
      "metadata": {
        "trusted": true
      },
      "cell_type": "code",
      "source": "config_file = 'config.json'\nkey = json.load(open(config_file))['key']\nsubscriptionKey = key",
      "execution_count": 2,
      "outputs": []
    },
    {
      "metadata": {},
      "cell_type": "markdown",
      "source": "The Azure Maps Search Service provides the ability for customers to find real world objects and their respective location. The Search Service provides for three major functions:\n    1. Geocoding: Finding addresses, places, and landmarks\n    2. Point of Interest (POI) Search: Finding businesses based on a location\n    3. Reverse Geocoding: Finding addresses or cross streets based on a location\n    \nYou can customize this for the address that you want analyze by replacing the address below:"
    },
    {
      "metadata": {
        "trusted": true
      },
      "cell_type": "code",
      "source": "addresstoAnalyze = \"400, Pine Street, Seattle\"\nlocationDetails = requests.get(\"https://atlas.microsoft.com/search/address/json?subscription-key={}&api-version=1.0&query={}\".format(subscriptionKey,addresstoAnalyze)).json()\nlatlong=locationDetails[\"results\"][0][\"position\"]\ncurrentLocation=[0,0]\ncurrentLocation[0]=latlong[\"lat\"]\ncurrentLocation[1]=latlong[\"lon\"]",
      "execution_count": 3,
      "outputs": []
    },
    {
      "metadata": {},
      "cell_type": "markdown",
      "source": "The *Get Metro Area* API allows to request metro areas in which the Azure Maps Mobility Service is available. The service supports filtering results by country or coordinate location. Information returned includes Metro Area details such as metro Id, name and a representation of the metro area geometry in GeoJSON format."
    },
    {
      "metadata": {
        "trusted": true
      },
      "cell_type": "code",
      "source": "metroAreaID = requests.get(\"https://atlas.microsoft.com/mobility/metroArea/id/json?subscription-key={}&api-version=1.0&queryType=position&query={}\".format(subscriptionKey,str(currentLocation[0])+\",\"+str(currentLocation[1]))).json()\nmetroID1 = metroAreaID[\"results\"][0][\"metroId\"]\nmetroName1 = metroAreaID[\"results\"][0][\"metroName\"]\nprint(\"The Metro ID for\", metroName1, \"is\",metroID1)",
      "execution_count": 4,
      "outputs": [
        {
          "output_type": "stream",
          "text": "The Metro ID for Seattle–Tacoma–Bellevue, WA is 522\n",
          "name": "stdout"
        }
      ]
    },
    {
      "metadata": {},
      "cell_type": "markdown",
      "source": "The Get Nearby Transit service (http://bit.ly/31Ui6Iw) allows you to search transit objects, for example, public transit stops and shared bikes around a given location returning the transit object details. The Service allows users to search for specific object types and within a given radius returning a set of transit object with object details."
    },
    {
      "metadata": {
        "trusted": true
      },
      "cell_type": "code",
      "source": "transitOptions = requests.get(\"https://atlas.microsoft.com/mobility/transit/nearby/json?subscription-key={}&api-version=1.0&metroId={}&query={}&radius=1000\".format(subscriptionKey,metroID1,str(currentLocation[0])+\",\"+str(currentLocation[1]))).json()",
      "execution_count": 5,
      "outputs": []
    },
    {
      "metadata": {},
      "cell_type": "markdown",
      "source": "This is the returned json from the Get Nearby Transit Service with the details of the nearby stops"
    },
    {
      "metadata": {
        "trusted": true
      },
      "cell_type": "code",
      "source": "transitOptionsF = json.dumps(transitOptions, indent=4)\nprint(transitOptionsF)",
      "execution_count": 6,
      "outputs": [
        {
          "output_type": "stream",
          "text": "{\n    \"results\": [\n        {\n            \"id\": \"522---2055334\",\n            \"type\": \"stop\",\n            \"objectDetails\": {\n                \"stopKey\": \"760\",\n                \"stopName\": \"5th Ave & Pine St\",\n                \"stopCode\": \"760\",\n                \"mainTransitType\": \"Bus\",\n                \"mainAgencyId\": \"522---5872\",\n                \"mainAgencyName\": \"Metro Transit\"\n            },\n            \"position\": {\n                \"latitude\": 47.611946,\n                \"longitude\": -122.336921\n            },\n            \"viewport\": {\n                \"topLeftPoint\": {\n                    \"latitude\": 47.612853,\n                    \"longitude\": -122.33824\n                },\n                \"btmRightPoint\": {\n                    \"latitude\": 47.611038,\n                    \"longitude\": -122.335601\n                }\n            }\n        },\n        {\n            \"id\": \"522---2055357\",\n            \"type\": \"stop\",\n            \"objectDetails\": {\n                \"stopKey\": \"1108\",\n                \"stopName\": \"Westlake Station - Bay C\",\n                \"stopCode\": \"1108\",\n                \"mainTransitType\": \"Tram\",\n                \"mainAgencyId\": \"522---854536\",\n                \"mainAgencyName\": \"Sound Transit\"\n            },\n            \"position\": {\n                \"latitude\": 47.61145,\n                \"longitude\": -122.337532\n            },\n            \"viewport\": {\n                \"topLeftPoint\": {\n                    \"latitude\": 47.612357,\n                    \"longitude\": -122.338851\n                },\n                \"btmRightPoint\": {\n                    \"latitude\": 47.610542,\n                    \"longitude\": -122.336212\n                }\n            }\n        },\n        {\n            \"id\": \"522---32962125\",\n            \"type\": \"stop\",\n            \"objectDetails\": {\n                \"stopName\": \"Westlake Station\",\n                \"mainTransitType\": \"Tram\",\n                \"mainAgencyId\": \"522---1360766\",\n                \"mainAgencyName\": \"Seattle Monorail\"\n            },\n            \"position\": {\n                \"latitude\": 47.611417,\n                \"longitude\": -122.337089\n            },\n            \"viewport\": {\n                \"topLeftPoint\": {\n                    \"latitude\": 47.612324,\n                    \"longitude\": -122.338408\n                },\n                \"btmRightPoint\": {\n                    \"latitude\": 47.610509,\n                    \"longitude\": -122.335769\n                }\n            }\n        }\n    ]\n}\n",
          "name": "stdout"
        }
      ]
    },
    {
      "metadata": {},
      "cell_type": "markdown",
      "source": "We enumerate through the elements in the json results to list out all of the transit stops around the location that you are analyzing. In addition, for every stop, we are also calling the Transit Stop Info service (http://bit.ly/2ARnDn7) to get details of all the lines that go through that stop. The Get Transit Stop Info service allows you to request information for a given public transit stop. Basic information returned includes details such as main transit type of most lines stopping for a given public and main transport agency. Additional details such as stop lines, active service alerts for specified stop, photos and user reviews are also available, depending on the options selected."
    },
    {
      "metadata": {
        "trusted": true
      },
      "cell_type": "code",
      "source": "print(\"Here are the public transit stops: \\n\")\ntotTime = 0 #used for calculating the average walk time to stops\ntotDist = 0 #used ro calculating the average distance to stops\nfor loc in range(len(transitOptions[\"results\"])):\n                #this string is the lat long for the location being analyzed and the lat long of the stops\n                starttoDest = str(currentLocation[0])+\",\"+str(currentLocation[1])+\":\"+ str(transitOptions[\"results\"][loc][\"position\"][\"latitude\"])+\",\"+str(transitOptions[\"results\"][loc][\"position\"][\"longitude\"])\n                tMode = \"pedestrian\" # we will measure the walking time & route to the stops\n                # the Get Route Directions API (http://bit.ly/2oauGF5) returns a route between an origin and a destination, passing through waypoints if they are specified. \n                routeDetails = requests.get(\"https://atlas.microsoft.com/route/directions/json?subscription-key={}&api-version=1.0&query={}&travelMode={}\".format(subscriptionKey,starttoDest,tMode)).json()\n                # this is the walking time to the stop in minutes\n                timeToStop = routeDetails[\"routes\"][0][\"summary\"][\"travelTimeInSeconds\"]/60\n                totTime = totTime + timeToStop\n                # this is the distance in kms to the stop\n                distToStop = routeDetails[\"routes\"][0][\"summary\"][\"lengthInMeters\"]/1000\n                totDist = totDist + distToStop\n                print(\"\\n\",loc+1,\". \",transitOptions[\"results\"][loc][\"objectDetails\"][\"mainTransitType\"],\"(\", transitOptions[\"results\"][loc][\"objectDetails\"][\"mainAgencyName\"],\")\", \":\", transitOptions[\"results\"][loc][\"objectDetails\"][\"stopName\"], \". Walk Time in Minutes:\", timeToStop,\". Distance in Km:\", distToStop)\n                sId = transitOptions[\"results\"][loc][\"id\"]\n                # The Get Transit Stop (http://bit.ly/2ARnDn7) Info service allows you to request information for a given public transit stop. Basic information returned includes details such as main transit type of most lines stopping for a given public and main transport agency. \n                stopDetails = requests.get(\"https://atlas.microsoft.com/mobility/transit/stop/json?subscription-key={}&api-version=1.0&metroId={}&query={}&queryType=stopId&detailType=lines\".format(subscriptionKey,metroID1,sId)).json()\n                print(\"\\n\\tLines:\")\n                for loc1 in range(len(stopDetails[\"lines\"])):\n                    print (\"\\t\\t\",loc1+1, \".\", stopDetails[\"lines\"][loc1][\"lineDestination\"], \"-\",stopDetails[\"lines\"][loc1][\"direction\"])\nprint (\"\\nTotal Transit Stops Nearby:\",len(transitOptions[\"results\"])) \nprint (\"Average Distance to Stops in Kms\",totDist/len(transitOptions[\"results\"])) \nprint (\"Average Time Walk to Stops in Minutes\",totTime/len(transitOptions[\"results\"]))      ",
      "execution_count": 7,
      "outputs": [
        {
          "output_type": "stream",
          "text": "Here are the public transit stops: \n\n\n 1 .  Bus ( Metro Transit ) : 5th Ave & Pine St . Walk Time in Minutes: 2.2 . Distance in Km: 0.183\n\n\tLines:\n\t\t 1 . Downtown Seattle Via Sr-520 - backward\n\t\t 2 . Downtown Seattle - backward\n\t\t 3 . Downtown Seattle Kirkland - backward\n\t\t 4 . Downtown Seattle - backward\n\t\t 5 . Downtown Seattle Via Sr-520 - backward\n\t\t 6 . Downtown Seattle Via Sr-520 - backward\n\t\t 7 . Downtown Seattle - backward\n\n 2 .  Tram ( Sound Transit ) : Westlake Station - Bay C . Walk Time in Minutes: 0.6666666666666666 . Distance in Km: 0.055\n\n\tLines:\n\t\t 1 . Angle Lake Station - forward\n\n 3 .  Tram ( Seattle Monorail ) : Westlake Station . Walk Time in Minutes: 19.7 . Distance in Km: 1.641\n\n\tLines:\n\t\t 1 . Seattle Center - backward\n\t\t 2 . Westlake Center - forward\n\nTotal Transit Stops Nearby: 3\nAverage Distance to Stops in Kms 0.6263333333333333\nAverage Time Walk to Stops in Minutes 7.522222222222222\n",
          "name": "stdout"
        }
      ]
    },
    {
      "metadata": {
        "trusted": true
      },
      "cell_type": "markdown",
      "source": "The returned data can be used for calculating the Transit Score based on:\n1. Number of Transit Stops within the specified Radius\n2. Distance to the Transit Stops from your location\n3. Number of lines that go through the Transit Stops\n4. Destinations of each of the lines\n5. Frequency & timings of the transit options\n6. & more"
    },
    {
      "metadata": {
        "trusted": true
      },
      "cell_type": "code",
      "source": "",
      "execution_count": null,
      "outputs": []
    },
    {
      "metadata": {
        "trusted": true
      },
      "cell_type": "code",
      "source": "",
      "execution_count": null,
      "outputs": []
    }
  ],
  "metadata": {
    "kernelspec": {
      "name": "python36",
      "display_name": "Python 3.6",
      "language": "python"
    },
    "language_info": {
      "mimetype": "text/x-python",
      "nbconvert_exporter": "python",
      "name": "python",
      "pygments_lexer": "ipython3",
      "version": "3.6.6",
      "file_extension": ".py",
      "codemirror_mode": {
        "version": 3,
        "name": "ipython"
      }
    }
  },
  "nbformat": 4,
  "nbformat_minor": 2
}